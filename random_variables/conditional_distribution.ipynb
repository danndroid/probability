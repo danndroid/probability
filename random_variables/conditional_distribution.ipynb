{
 "cells": [
  {
   "cell_type": "code",
   "execution_count": null,
   "id": "17bc6019-ee58-4a9c-bf8e-2278e7411dfe",
   "metadata": {},
   "outputs": [],
   "source": []
  },
  {
   "cell_type": "code",
   "execution_count": 1,
   "id": "f4cbbb2c-6115-489d-b9f6-2dfa429fd948",
   "metadata": {},
   "outputs": [
    {
     "name": "stderr",
     "output_type": "stream",
     "text": [
      "/home/warrior/miniconda3/envs/inference/lib/python3.9/site-packages/tqdm/auto.py:22: TqdmWarning: IProgress not found. Please update jupyter and ipywidgets. See https://ipywidgets.readthedocs.io/en/stable/user_install.html\n",
      "  from .autonotebook import tqdm as notebook_tqdm\n"
     ]
    }
   ],
   "source": [
    "import numpy as np\n",
    "import torch\n",
    "import pyro\n",
    "\n",
    "from pgmpy.factors.discrete import DiscreteFactor\n",
    "from pyro.distributions import Bernoulli, Categorical, Gamma, Normal, Poisson"
   ]
  },
  {
   "cell_type": "code",
   "execution_count": 26,
   "id": "a1155b9e-1ad4-430a-80f2-94d9d639412e",
   "metadata": {},
   "outputs": [
    {
     "name": "stdout",
     "output_type": "stream",
     "text": [
      "tensor(7.1968)\n",
      "E[z]= 7.196842670440674\n"
     ]
    }
   ],
   "source": [
    "def random_process():\n",
    "    z = pyro.sample('z', Gamma(7.5, 1.0))\n",
    "    x = pyro.sample('x', Poisson(z))\n",
    "    y = torch.tensor(0.0)\n",
    "    for i in range(int(x)):\n",
    "        y += pyro.sample(f'y{i}', Bernoulli(.5))\n",
    "        \n",
    "    return z, y\n",
    "\n",
    "samples = [random_process() for _ in range(100)]\n",
    "z_mean = torch.stack([z for z,_ in samples]).mean()\n",
    "print(z_mean)\n",
    "print(f'E[z]= {z_mean}')"
   ]
  },
  {
   "cell_type": "code",
   "execution_count": 27,
   "id": "ff687692-4fdd-4dd8-a2db-cd1927c56b71",
   "metadata": {},
   "outputs": [
    {
     "name": "stdout",
     "output_type": "stream",
     "text": [
      "tensor(5.7837)\n",
      "E[z|y=3]= 5.7837443351745605\n"
     ]
    }
   ],
   "source": [
    "z_mean = torch.stack([z for z, y in samples if y ==3]).mean()\n",
    "print(z_mean)\n",
    "print(f'E[z|y=3]= {z_mean}')"
   ]
  },
  {
   "cell_type": "code",
   "execution_count": null,
   "id": "a8e3874e-880f-41ed-9112-36cdb7345adf",
   "metadata": {},
   "outputs": [],
   "source": []
  }
 ],
 "metadata": {
  "kernelspec": {
   "display_name": "Python 3",
   "language": "python",
   "name": "python3"
  },
  "language_info": {
   "codemirror_mode": {
    "name": "ipython",
    "version": 3
   },
   "file_extension": ".py",
   "mimetype": "text/x-python",
   "name": "python",
   "nbconvert_exporter": "python",
   "pygments_lexer": "ipython3",
   "version": "3.9.0"
  }
 },
 "nbformat": 4,
 "nbformat_minor": 5
}
