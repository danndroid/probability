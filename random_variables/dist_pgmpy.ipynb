{
 "cells": [
  {
   "cell_type": "code",
   "execution_count": 2,
   "id": "ee5778b3-ff8e-4cbf-a0cd-6c2f9d8811a6",
   "metadata": {},
   "outputs": [],
   "source": [
    "import numpy as np\n",
    "from scipy.stats import bernoulli, norm, poisson\n",
    "import matplotlib.pyplot as plt\n",
    "import seaborn as sns"
   ]
  },
  {
   "cell_type": "code",
   "execution_count": 3,
   "id": "2e338381-f7ff-4b3d-869d-cf4164ec4604",
   "metadata": {},
   "outputs": [
    {
     "name": "stderr",
     "output_type": "stream",
     "text": [
      "/home/warrior/miniconda3/envs/inference/lib/python3.9/site-packages/tqdm/auto.py:22: TqdmWarning: IProgress not found. Please update jupyter and ipywidgets. See https://ipywidgets.readthedocs.io/en/stable/user_install.html\n",
      "  from .autonotebook import tqdm as notebook_tqdm\n"
     ]
    }
   ],
   "source": [
    "from pgmpy.factors.discrete import DiscreteFactor"
   ]
  },
  {
   "cell_type": "markdown",
   "id": "e1580ec2-dfa1-42c0-96ce-4ce83c713e71",
   "metadata": {},
   "source": [
    "### DiscreteFactors"
   ]
  },
  {
   "cell_type": "code",
   "execution_count": 4,
   "id": "1a343e1e-a1c0-4f79-9e0a-44a52544178e",
   "metadata": {},
   "outputs": [
    {
     "name": "stdout",
     "output_type": "stream",
     "text": [
      "+------+----------+\n",
      "| X    |   phi(X) |\n",
      "+======+==========+\n",
      "| X(1) |   0.4500 |\n",
      "+------+----------+\n",
      "| X(2) |   0.3000 |\n",
      "+------+----------+\n",
      "| X(3) |   0.2500 |\n",
      "+------+----------+\n"
     ]
    }
   ],
   "source": [
    "distX = DiscreteFactor(\n",
    "    variables=['X'],\n",
    "    cardinality=[3],\n",
    "    values=[0.45,0.30,0.25],\n",
    "    state_names={'X':['1','2','3']}\n",
    ")\n",
    "print(distX)"
   ]
  },
  {
   "cell_type": "code",
   "execution_count": 6,
   "id": "4bba9e67-bbae-47ce-b354-274e39fc204f",
   "metadata": {},
   "outputs": [
    {
     "data": {
      "text/html": [
       "<div>\n",
       "<style scoped>\n",
       "    .dataframe tbody tr th:only-of-type {\n",
       "        vertical-align: middle;\n",
       "    }\n",
       "\n",
       "    .dataframe tbody tr th {\n",
       "        vertical-align: top;\n",
       "    }\n",
       "\n",
       "    .dataframe thead th {\n",
       "        text-align: right;\n",
       "    }\n",
       "</style>\n",
       "<table border=\"1\" class=\"dataframe\">\n",
       "  <thead>\n",
       "    <tr style=\"text-align: right;\">\n",
       "      <th></th>\n",
       "      <th>X</th>\n",
       "    </tr>\n",
       "  </thead>\n",
       "  <tbody>\n",
       "    <tr>\n",
       "      <th>0</th>\n",
       "      <td>1</td>\n",
       "    </tr>\n",
       "    <tr>\n",
       "      <th>1</th>\n",
       "      <td>1</td>\n",
       "    </tr>\n",
       "    <tr>\n",
       "      <th>2</th>\n",
       "      <td>1</td>\n",
       "    </tr>\n",
       "    <tr>\n",
       "      <th>3</th>\n",
       "      <td>2</td>\n",
       "    </tr>\n",
       "    <tr>\n",
       "      <th>4</th>\n",
       "      <td>2</td>\n",
       "    </tr>\n",
       "  </tbody>\n",
       "</table>\n",
       "</div>"
      ],
      "text/plain": [
       "   X\n",
       "0  1\n",
       "1  1\n",
       "2  1\n",
       "3  2\n",
       "4  2"
      ]
     },
     "execution_count": 6,
     "metadata": {},
     "output_type": "execute_result"
    }
   ],
   "source": [
    "distX.sample(5)"
   ]
  },
  {
   "cell_type": "code",
   "execution_count": 7,
   "id": "b6f6db76-3497-4c5f-9dbc-a81fa15ad488",
   "metadata": {},
   "outputs": [
    {
     "name": "stdout",
     "output_type": "stream",
     "text": [
      "+------+------+------------+\n",
      "| X    | Y    |   phi(X,Y) |\n",
      "+======+======+============+\n",
      "| X(1) | Y(1) |     0.2500 |\n",
      "+------+------+------------+\n",
      "| X(1) | Y(2) |     0.2000 |\n",
      "+------+------+------------+\n",
      "| X(2) | Y(1) |     0.2000 |\n",
      "+------+------+------------+\n",
      "| X(2) | Y(2) |     0.1000 |\n",
      "+------+------+------------+\n",
      "| X(3) | Y(1) |     0.1500 |\n",
      "+------+------+------------+\n",
      "| X(3) | Y(2) |     0.1000 |\n",
      "+------+------+------------+\n"
     ]
    }
   ],
   "source": [
    "joint = DiscreteFactor(\n",
    "    variables=['X', 'Y'],\n",
    "    cardinality=[3, 2],\n",
    "    values=[0.25,0.20, 0.20,0.10, 0.15,0.10], #given in tuples (x1,y1, x2,y2, x3,y3)\n",
    "    state_names={\n",
    "        'X':['1','2','3'],\n",
    "        'Y':['1','2']}\n",
    ")\n",
    "print(joint)"
   ]
  },
  {
   "cell_type": "code",
   "execution_count": 10,
   "id": "34f34f4b-1c80-43a7-9887-c6ef13ba039a",
   "metadata": {},
   "outputs": [
    {
     "data": {
      "text/html": [
       "<div>\n",
       "<style scoped>\n",
       "    .dataframe tbody tr th:only-of-type {\n",
       "        vertical-align: middle;\n",
       "    }\n",
       "\n",
       "    .dataframe tbody tr th {\n",
       "        vertical-align: top;\n",
       "    }\n",
       "\n",
       "    .dataframe thead th {\n",
       "        text-align: right;\n",
       "    }\n",
       "</style>\n",
       "<table border=\"1\" class=\"dataframe\">\n",
       "  <thead>\n",
       "    <tr style=\"text-align: right;\">\n",
       "      <th></th>\n",
       "      <th>X</th>\n",
       "      <th>Y</th>\n",
       "    </tr>\n",
       "  </thead>\n",
       "  <tbody>\n",
       "    <tr>\n",
       "      <th>0</th>\n",
       "      <td>3</td>\n",
       "      <td>1</td>\n",
       "    </tr>\n",
       "    <tr>\n",
       "      <th>1</th>\n",
       "      <td>1</td>\n",
       "      <td>2</td>\n",
       "    </tr>\n",
       "    <tr>\n",
       "      <th>2</th>\n",
       "      <td>2</td>\n",
       "      <td>1</td>\n",
       "    </tr>\n",
       "  </tbody>\n",
       "</table>\n",
       "</div>"
      ],
      "text/plain": [
       "   X  Y\n",
       "0  3  1\n",
       "1  1  2\n",
       "2  2  1"
      ]
     },
     "execution_count": 10,
     "metadata": {},
     "output_type": "execute_result"
    }
   ],
   "source": [
    "joint.sample(3)"
   ]
  },
  {
   "cell_type": "code",
   "execution_count": 9,
   "id": "95a14a5a-ce31-48b2-b37a-1e297e74313f",
   "metadata": {},
   "outputs": [
    {
     "name": "stdout",
     "output_type": "stream",
     "text": [
      "+------+----------+\n",
      "| X    |   phi(X) |\n",
      "+======+==========+\n",
      "| X(1) |   0.4500 |\n",
      "+------+----------+\n",
      "| X(2) |   0.3000 |\n",
      "+------+----------+\n",
      "| X(3) |   0.2500 |\n",
      "+------+----------+\n"
     ]
    }
   ],
   "source": [
    "print(joint.marginalize(variables=['Y'], inplace=False))"
   ]
  },
  {
   "cell_type": "code",
   "execution_count": 33,
   "id": "e7e09334-1e4b-4e06-94bf-33ef01e68e3c",
   "metadata": {},
   "outputs": [
    {
     "name": "stdout",
     "output_type": "stream",
     "text": [
      "+------+----------+\n",
      "| Y    |   phi(Y) |\n",
      "+======+==========+\n",
      "| Y(1) |   0.6000 |\n",
      "+------+----------+\n",
      "| Y(2) |   0.4000 |\n",
      "+------+----------+\n"
     ]
    }
   ],
   "source": [
    "print(joint.marginalize(variables=['X'], inplace=False))"
   ]
  },
  {
   "cell_type": "code",
   "execution_count": 11,
   "id": "d3511c0e-8c56-4981-85ec-448892dbf185",
   "metadata": {},
   "outputs": [
    {
     "name": "stdout",
     "output_type": "stream",
     "text": [
      "+------+------+------------+\n",
      "| X    | Y    |   phi(X,Y) |\n",
      "+======+======+============+\n",
      "| X(1) | Y(1) |     0.5556 |\n",
      "+------+------+------------+\n",
      "| X(1) | Y(2) |     0.4444 |\n",
      "+------+------+------------+\n",
      "| X(2) | Y(1) |     0.6667 |\n",
      "+------+------+------------+\n",
      "| X(2) | Y(2) |     0.3333 |\n",
      "+------+------+------------+\n",
      "| X(3) | Y(1) |     0.6000 |\n",
      "+------+------+------------+\n",
      "| X(3) | Y(2) |     0.4000 |\n",
      "+------+------+------------+\n"
     ]
    }
   ],
   "source": [
    "# P(Y|X)\n",
    "print(joint / distX)"
   ]
  },
  {
   "cell_type": "markdown",
   "id": "a72db9e4-5e2b-436c-b386-bae27a3727fd",
   "metadata": {},
   "source": [
    "### Sampling from Distributions"
   ]
  },
  {
   "cell_type": "code",
   "execution_count": 1,
   "id": "a1973f35-7495-46b8-b7fb-cd2639edead3",
   "metadata": {},
   "outputs": [
    {
     "name": "stderr",
     "output_type": "stream",
     "text": [
      "/home/warrior/miniconda3/envs/inference/lib/python3.9/site-packages/tqdm/auto.py:22: TqdmWarning: IProgress not found. Please update jupyter and ipywidgets. See https://ipywidgets.readthedocs.io/en/stable/user_install.html\n",
      "  from .autonotebook import tqdm as notebook_tqdm\n"
     ]
    }
   ],
   "source": [
    "from pgmpy.factors.discrete.CPD import TabularCPD\n",
    "from pgmpy.models import BayesianNetwork\n",
    "from pgmpy.sampling import BayesianModelSampling"
   ]
  },
  {
   "cell_type": "markdown",
   "id": "4ef553cb-b162-4bcb-a4d2-8725e0125668",
   "metadata": {},
   "source": [
    "### Sampling model\n",
    "<center>$z \\sim p(Z)$<center>\n",
    "\n",
    "<center>$x \\sim P(X|Z=z)$<center>\n",
    "\n",
    "<center>$y \\sim P(Y|X=x)$<center>"
   ]
  },
  {
   "cell_type": "code",
   "execution_count": 2,
   "id": "2a2c2862-23bd-4ad0-86ed-5ad59bd1f3b4",
   "metadata": {},
   "outputs": [],
   "source": [
    "pZ = TabularCPD(\n",
    "    variable='Z',\n",
    "    variable_card=2,\n",
    "    values=[[.65],[.35]],\n",
    "    state_names={'Z':['0','1']}\n",
    ")"
   ]
  },
  {
   "cell_type": "code",
   "execution_count": 3,
   "id": "c2ca7a45-1438-477d-8fb8-cf7aff1851c2",
   "metadata": {},
   "outputs": [],
   "source": [
    "pXgZ = TabularCPD(\n",
    "    variable='X',\n",
    "    variable_card=2,\n",
    "    values=[[.8, .6],\n",
    "            [.2, .4]],\n",
    "    evidence=['Z'],\n",
    "    evidence_card=[2],\n",
    "    state_names={'X':['0','1'],\n",
    "                 'Z':['0','1']}\n",
    ")"
   ]
  },
  {
   "cell_type": "code",
   "execution_count": 4,
   "id": "040351d4-df96-4055-8cae-8f8ffc5656b9",
   "metadata": {},
   "outputs": [],
   "source": [
    "pYgX = TabularCPD(\n",
    "    variable='Y',\n",
    "    variable_card=3,\n",
    "    values=[[.1, .8],\n",
    "            [.2, .1],\n",
    "            [.7, .1]\n",
    "            ],\n",
    "    evidence=['X'],\n",
    "    evidence_card=[2],\n",
    "    state_names={'Y':['1','2', '3'],\n",
    "                 'X':['0','1']}\n",
    ")"
   ]
  },
  {
   "cell_type": "code",
   "execution_count": 10,
   "id": "bd33478c-8d96-4f27-8989-8a82e0c22275",
   "metadata": {},
   "outputs": [],
   "source": [
    "model = BayesianNetwork([('Z','X'),('X','Y')]) # Graph: Z->X->Y\n",
    "model.add_cpds(pZ, pXgZ, pYgX) # Conditional Probability Distributions in the model"
   ]
  },
  {
   "cell_type": "code",
   "execution_count": 8,
   "id": "e7e8e6a4-420d-4226-b2f5-ed0a32414586",
   "metadata": {},
   "outputs": [
    {
     "name": "stderr",
     "output_type": "stream",
     "text": [
      "Generating for node: Y: 100%|██████████| 3/3 [00:00<00:00, 824.95it/s]\n"
     ]
    },
    {
     "data": {
      "text/html": [
       "<div>\n",
       "<style scoped>\n",
       "    .dataframe tbody tr th:only-of-type {\n",
       "        vertical-align: middle;\n",
       "    }\n",
       "\n",
       "    .dataframe tbody tr th {\n",
       "        vertical-align: top;\n",
       "    }\n",
       "\n",
       "    .dataframe thead th {\n",
       "        text-align: right;\n",
       "    }\n",
       "</style>\n",
       "<table border=\"1\" class=\"dataframe\">\n",
       "  <thead>\n",
       "    <tr style=\"text-align: right;\">\n",
       "      <th></th>\n",
       "      <th>Z</th>\n",
       "      <th>X</th>\n",
       "      <th>Y</th>\n",
       "    </tr>\n",
       "  </thead>\n",
       "  <tbody>\n",
       "    <tr>\n",
       "      <th>0</th>\n",
       "      <td>0</td>\n",
       "      <td>0</td>\n",
       "      <td>3</td>\n",
       "    </tr>\n",
       "    <tr>\n",
       "      <th>1</th>\n",
       "      <td>1</td>\n",
       "      <td>0</td>\n",
       "      <td>3</td>\n",
       "    </tr>\n",
       "    <tr>\n",
       "      <th>2</th>\n",
       "      <td>0</td>\n",
       "      <td>1</td>\n",
       "      <td>1</td>\n",
       "    </tr>\n",
       "    <tr>\n",
       "      <th>3</th>\n",
       "      <td>0</td>\n",
       "      <td>0</td>\n",
       "      <td>3</td>\n",
       "    </tr>\n",
       "    <tr>\n",
       "      <th>4</th>\n",
       "      <td>0</td>\n",
       "      <td>1</td>\n",
       "      <td>1</td>\n",
       "    </tr>\n",
       "  </tbody>\n",
       "</table>\n",
       "</div>"
      ],
      "text/plain": [
       "   Z  X  Y\n",
       "0  0  0  3\n",
       "1  1  0  3\n",
       "2  0  1  1\n",
       "3  0  0  3\n",
       "4  0  1  1"
      ]
     },
     "execution_count": 8,
     "metadata": {},
     "output_type": "execute_result"
    }
   ],
   "source": [
    "generator = BayesianModelSampling(model) # Sampling object\n",
    "generator.forward_sample(size=5)"
   ]
  },
  {
   "cell_type": "code",
   "execution_count": 9,
   "id": "4b7dd595-f491-437a-ad3b-02f0041218bb",
   "metadata": {},
   "outputs": [
    {
     "name": "stderr",
     "output_type": "stream",
     "text": [
      "Generating for node: Y: 100%|██████████| 3/3 [00:00<00:00, 780.38it/s]\n"
     ]
    },
    {
     "data": {
      "text/html": [
       "<div>\n",
       "<style scoped>\n",
       "    .dataframe tbody tr th:only-of-type {\n",
       "        vertical-align: middle;\n",
       "    }\n",
       "\n",
       "    .dataframe tbody tr th {\n",
       "        vertical-align: top;\n",
       "    }\n",
       "\n",
       "    .dataframe thead th {\n",
       "        text-align: right;\n",
       "    }\n",
       "</style>\n",
       "<table border=\"1\" class=\"dataframe\">\n",
       "  <thead>\n",
       "    <tr style=\"text-align: right;\">\n",
       "      <th></th>\n",
       "      <th>Z</th>\n",
       "      <th>X</th>\n",
       "      <th>Y</th>\n",
       "    </tr>\n",
       "  </thead>\n",
       "  <tbody>\n",
       "    <tr>\n",
       "      <th>0</th>\n",
       "      <td>0</td>\n",
       "      <td>0</td>\n",
       "      <td>3</td>\n",
       "    </tr>\n",
       "    <tr>\n",
       "      <th>1</th>\n",
       "      <td>1</td>\n",
       "      <td>0</td>\n",
       "      <td>3</td>\n",
       "    </tr>\n",
       "    <tr>\n",
       "      <th>2</th>\n",
       "      <td>0</td>\n",
       "      <td>0</td>\n",
       "      <td>3</td>\n",
       "    </tr>\n",
       "    <tr>\n",
       "      <th>3</th>\n",
       "      <td>1</td>\n",
       "      <td>0</td>\n",
       "      <td>3</td>\n",
       "    </tr>\n",
       "    <tr>\n",
       "      <th>4</th>\n",
       "      <td>1</td>\n",
       "      <td>0</td>\n",
       "      <td>2</td>\n",
       "    </tr>\n",
       "  </tbody>\n",
       "</table>\n",
       "</div>"
      ],
      "text/plain": [
       "   Z  X  Y\n",
       "0  0  0  3\n",
       "1  1  0  3\n",
       "2  0  0  3\n",
       "3  1  0  3\n",
       "4  1  0  2"
      ]
     },
     "execution_count": 9,
     "metadata": {},
     "output_type": "execute_result"
    }
   ],
   "source": [
    "samples = generator.forward_sample(size=100)\n",
    "samples.shape\n",
    "samples.head()"
   ]
  },
  {
   "cell_type": "markdown",
   "id": "0289e468-6ffb-4e10-b525-1f4111e1ad2f",
   "metadata": {},
   "source": [
    "### Expected value of Y $E[Y]$"
   ]
  },
  {
   "cell_type": "code",
   "execution_count": 32,
   "id": "2fc3f058-184c-4f03-8b59-c8462c44871e",
   "metadata": {},
   "outputs": [
    {
     "data": {
      "text/plain": [
       "2.16"
      ]
     },
     "execution_count": 32,
     "metadata": {},
     "output_type": "execute_result"
    }
   ],
   "source": [
    "samples['Y'].apply(int).mean()"
   ]
  },
  {
   "cell_type": "code",
   "execution_count": null,
   "id": "be827ed4-03e2-4b70-b565-da28689874be",
   "metadata": {},
   "outputs": [],
   "source": []
  }
 ],
 "metadata": {
  "kernelspec": {
   "display_name": "Python 3",
   "language": "python",
   "name": "python3"
  },
  "language_info": {
   "codemirror_mode": {
    "name": "ipython",
    "version": 3
   },
   "file_extension": ".py",
   "mimetype": "text/x-python",
   "name": "python",
   "nbconvert_exporter": "python",
   "pygments_lexer": "ipython3",
   "version": "3.9.0"
  }
 },
 "nbformat": 4,
 "nbformat_minor": 5
}
