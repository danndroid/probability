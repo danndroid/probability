{
 "cells": [
  {
   "cell_type": "code",
   "execution_count": 6,
   "id": "ee5778b3-ff8e-4cbf-a0cd-6c2f9d8811a6",
   "metadata": {},
   "outputs": [],
   "source": [
    "import numpy as np\n",
    "from scipy.stats import bernoulli, norm, poisson\n",
    "import matplotlib.pyplot as plt\n",
    "import seaborn as sns"
   ]
  },
  {
   "cell_type": "code",
   "execution_count": 25,
   "id": "2e338381-f7ff-4b3d-869d-cf4164ec4604",
   "metadata": {},
   "outputs": [],
   "source": [
    "import torch\n",
    "import pyro\n",
    "\n",
    "from pgmpy.factors.discrete import DiscreteFactor\n",
    "from pyro.distributions import Bernoulli, Categorical, Gamma, Normal, Poisson"
   ]
  },
  {
   "cell_type": "code",
   "execution_count": 8,
   "id": "50f667d1-0c0c-4338-ade4-78d0ced18b15",
   "metadata": {},
   "outputs": [
    {
     "name": "stdout",
     "output_type": "stream",
     "text": [
      "Categorical(probs: torch.Size([3]))\n"
     ]
    }
   ],
   "source": [
    "print(Categorical(probs=torch.tensor([.45, .30, .25])))"
   ]
  },
  {
   "cell_type": "code",
   "execution_count": 17,
   "id": "197b5d48-ec60-4aad-856f-42f3c11904dc",
   "metadata": {},
   "outputs": [
    {
     "data": {
      "text/plain": [
       "tensor(1)"
      ]
     },
     "execution_count": 17,
     "metadata": {},
     "output_type": "execute_result"
    }
   ],
   "source": [
    "Categorical(probs=torch.tensor([.45, .30, .25])).sample()"
   ]
  },
  {
   "cell_type": "markdown",
   "id": "0737cdb3-6dcd-49eb-a718-4bdb574dc7bc",
   "metadata": {},
   "source": [
    "### Sampling from Distributions"
   ]
  },
  {
   "cell_type": "code",
   "execution_count": 22,
   "id": "6811c612-77ff-4f3c-b4bb-9dad9924ac61",
   "metadata": {},
   "outputs": [
    {
     "data": {
      "text/plain": [
       "(tensor(9.), tensor(1.), tensor(7.3949))"
      ]
     },
     "execution_count": 22,
     "metadata": {},
     "output_type": "execute_result"
    }
   ],
   "source": [
    "z = Gamma(7.5, 1.0).sample()\n",
    "x = Poisson(z).sample()\n",
    "y = Bernoulli(x/(5+x)).sample()\n",
    "\n",
    "x,y,z"
   ]
  },
  {
   "cell_type": "markdown",
   "id": "7c4d7c7c-af00-4539-8bda-d7e6814bc6c6",
   "metadata": {},
   "source": [
    "<center>$z \\sim p(Z)$<center>\n",
    "\n",
    "<center>$x \\sim P(Y|Z=z)$<center>\n",
    "\n",
    "<center>$y_i \\sim P(Y|X=x)$<center>\n",
    "    \n",
    "<center>$y = \\sum_{i}^x y_i$<center>"
   ]
  },
  {
   "cell_type": "code",
   "execution_count": 29,
   "id": "ee1109fa-fc94-44ec-9a46-610816bb2bd1",
   "metadata": {},
   "outputs": [
    {
     "name": "stdout",
     "output_type": "stream",
     "text": [
      "0\n",
      "1\n",
      "2\n",
      "3\n",
      "4\n",
      "5\n"
     ]
    },
    {
     "data": {
      "text/plain": [
       "(tensor(6.), tensor(0.), tensor(8.0881))"
      ]
     },
     "execution_count": 29,
     "metadata": {},
     "output_type": "execute_result"
    }
   ],
   "source": [
    "z = Gamma(7.5, 1.0).sample()\n",
    "x = Poisson(z).sample()\n",
    "y = torch.tensor(0.0)\n",
    "for i in range(int(x)):\n",
    "    print(i)\n",
    "    y += Bernoulli(.5).sample()\n",
    "\n",
    "x,y,z"
   ]
  },
  {
   "cell_type": "markdown",
   "id": "87b679ee-0d53-4e82-a4b2-beccb17d5eb5",
   "metadata": {},
   "source": [
    "### Random process (X,Y,Z)"
   ]
  },
  {
   "cell_type": "code",
   "execution_count": 31,
   "id": "a86098cd-3f97-4f3d-b43e-e8608ad7183d",
   "metadata": {},
   "outputs": [],
   "source": [
    "def random_process():\n",
    "    z = pyro.sample('z', Gamma(7.5, 1.0))\n",
    "    x = pyro.sample('x', Poisson(z))\n",
    "    y = torch.tensor(0.0)\n",
    "    for i in range(int(x)):\n",
    "        y += pyro.sample(f'y{i}', Bernoulli(.5))\n",
    "        \n",
    "    return y"
   ]
  },
  {
   "cell_type": "code",
   "execution_count": 32,
   "id": "a1973f35-7495-46b8-b7fb-cd2639edead3",
   "metadata": {},
   "outputs": [
    {
     "data": {
      "text/plain": [
       "tensor([ 3.,  3.,  4.,  0.,  3.,  4.,  2.,  3.,  2.,  5.,  2.,  2.,  2.,  1.,\n",
       "         2.,  1.,  8.,  7.,  2.,  8.,  0.,  0.,  3.,  1.,  3.,  1.,  4.,  6.,\n",
       "         3., 11.,  4.,  3., 10.,  1.,  2.,  8.,  0.,  1.,  4.,  1.,  3.,  2.,\n",
       "         3.,  2.,  7.,  6.,  5.,  2.,  1.,  3., 10.,  1.,  8.,  5.,  3.,  4.,\n",
       "         3.,  3.,  5.,  4.,  3.,  3.,  5.,  3.,  1.,  2.,  3.,  3.,  4.,  1.,\n",
       "         1.,  7.,  4.,  4.,  5.,  2.,  3.,  2.,  0.,  7.,  3.,  0.,  2.,  6.,\n",
       "         2.,  5.,  3.,  6.,  2.,  2.,  0.,  5.,  8.,  3.,  5.,  3.,  3.,  1.,\n",
       "         6.,  1.])"
      ]
     },
     "execution_count": 32,
     "metadata": {},
     "output_type": "execute_result"
    }
   ],
   "source": [
    "samples = torch.stack([random_process() for _ in range(100)])\n",
    "samples"
   ]
  },
  {
   "cell_type": "markdown",
   "id": "0a35f62b-ee7e-45ad-b366-e48f5adb32fc",
   "metadata": {},
   "source": [
    "### Expectation of Y $E[Y]$"
   ]
  },
  {
   "cell_type": "code",
   "execution_count": 33,
   "id": "77c63b1b-d487-4ac2-b05b-9b8a9f738a3c",
   "metadata": {},
   "outputs": [
    {
     "data": {
      "text/plain": [
       "tensor(3.3900)"
      ]
     },
     "execution_count": 33,
     "metadata": {},
     "output_type": "execute_result"
    }
   ],
   "source": [
    "samples.mean()"
   ]
  },
  {
   "cell_type": "markdown",
   "id": "2d1778b6-95ee-4e99-883d-6b282e5ec3a1",
   "metadata": {},
   "source": [
    " ### Expectation of a funtion $E[f(Y)] : f(y) = y^2$"
   ]
  },
  {
   "cell_type": "code",
   "execution_count": 34,
   "id": "18a61e7f-ea0f-4604-9285-2b900c9e14dc",
   "metadata": {},
   "outputs": [
    {
     "data": {
      "text/plain": [
       "tensor(17.1300)"
      ]
     },
     "execution_count": 34,
     "metadata": {},
     "output_type": "execute_result"
    }
   ],
   "source": [
    "torch.square(samples).mean()"
   ]
  },
  {
   "cell_type": "code",
   "execution_count": null,
   "id": "dba826e2-f4ca-48ef-8ea2-13216331544c",
   "metadata": {},
   "outputs": [],
   "source": []
  }
 ],
 "metadata": {
  "kernelspec": {
   "display_name": "Python 3",
   "language": "python",
   "name": "python3"
  },
  "language_info": {
   "codemirror_mode": {
    "name": "ipython",
    "version": 3
   },
   "file_extension": ".py",
   "mimetype": "text/x-python",
   "name": "python",
   "nbconvert_exporter": "python",
   "pygments_lexer": "ipython3",
   "version": "3.9.0"
  }
 },
 "nbformat": 4,
 "nbformat_minor": 5
}
