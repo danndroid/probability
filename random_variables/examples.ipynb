{
 "cells": [
  {
   "cell_type": "code",
   "execution_count": 2,
   "id": "56f99683-d789-4c14-bfa2-675588dea6c1",
   "metadata": {},
   "outputs": [
    {
     "name": "stderr",
     "output_type": "stream",
     "text": [
      "/home/warrior/miniconda3/envs/inference/lib/python3.9/site-packages/tqdm/auto.py:22: TqdmWarning: IProgress not found. Please update jupyter and ipywidgets. See https://ipywidgets.readthedocs.io/en/stable/user_install.html\n",
      "  from .autonotebook import tqdm as notebook_tqdm\n"
     ]
    }
   ],
   "source": [
    "import numpy as np\n",
    "from pgmpy.factors.discrete import DiscreteFactor"
   ]
  },
  {
   "cell_type": "markdown",
   "id": "99ffef54-3da6-4c00-88dc-0b340edc16d9",
   "metadata": {
    "jp-MarkdownHeadingCollapsed": true,
    "tags": []
   },
   "source": [
    "## 1"
   ]
  },
  {
   "cell_type": "code",
   "execution_count": 8,
   "id": "c12e6659-0a8a-4565-802a-b91a07fca2e6",
   "metadata": {},
   "outputs": [
    {
     "name": "stdout",
     "output_type": "stream",
     "text": [
      "+-------+-------+------------+\n",
      "| A     | B     |   phi(A,B) |\n",
      "+=======+=======+============+\n",
      "| A(a)  | B(b)  |     0.1200 |\n",
      "+-------+-------+------------+\n",
      "| A(a)  | B(bc) |     0.2900 |\n",
      "+-------+-------+------------+\n",
      "| A(ac) | B(b)  |     0.5300 |\n",
      "+-------+-------+------------+\n",
      "| A(ac) | B(bc) |     0.0600 |\n",
      "+-------+-------+------------+\n"
     ]
    }
   ],
   "source": [
    "joint = DiscreteFactor(\n",
    "    variables=['A', 'B'],\n",
    "    cardinality=[2, 2],\n",
    "    values=[0.12,0.29, 0.53,0.06], #given in tuples (x1,y1, x2,y2, x3,y3)\n",
    "    state_names={\n",
    "        'A':['a','ac'],\n",
    "        'B':['b','bc']}\n",
    ")\n",
    "print(joint)"
   ]
  },
  {
   "cell_type": "code",
   "execution_count": 12,
   "id": "fea1e83d-29ce-4c12-8b2c-4cfc0320beba",
   "metadata": {},
   "outputs": [
    {
     "name": "stdout",
     "output_type": "stream",
     "text": [
      "+-------+----------+\n",
      "| B     |   phi(B) |\n",
      "+=======+==========+\n",
      "| B(b)  |   0.6500 |\n",
      "+-------+----------+\n",
      "| B(bc) |   0.3500 |\n",
      "+-------+----------+\n"
     ]
    }
   ],
   "source": [
    "pB = joint.marginalize(variables=['A'], inplace=False)\n",
    "print(pB)"
   ]
  },
  {
   "cell_type": "code",
   "execution_count": 14,
   "id": "898b30d5-c758-402f-ad23-c925752c6135",
   "metadata": {},
   "outputs": [
    {
     "name": "stdout",
     "output_type": "stream",
     "text": [
      "+-------+----------+\n",
      "| A     |   phi(A) |\n",
      "+=======+==========+\n",
      "| A(a)  |   0.4100 |\n",
      "+-------+----------+\n",
      "| A(ac) |   0.5900 |\n",
      "+-------+----------+\n"
     ]
    }
   ],
   "source": [
    "pA = joint.marginalize(variables=['B'], inplace=False)\n",
    "print(pA)"
   ]
  },
  {
   "cell_type": "code",
   "execution_count": 13,
   "id": "6194b4d2-2a83-4872-87f8-05c2b8331280",
   "metadata": {},
   "outputs": [
    {
     "name": "stdout",
     "output_type": "stream",
     "text": [
      "+-------+-------+------------+\n",
      "| A     | B     |   phi(A,B) |\n",
      "+=======+=======+============+\n",
      "| A(a)  | B(b)  |     0.1846 |\n",
      "+-------+-------+------------+\n",
      "| A(a)  | B(bc) |     0.8286 |\n",
      "+-------+-------+------------+\n",
      "| A(ac) | B(b)  |     0.8154 |\n",
      "+-------+-------+------------+\n",
      "| A(ac) | B(bc) |     0.1714 |\n",
      "+-------+-------+------------+\n"
     ]
    }
   ],
   "source": [
    "print(joint / pB)"
   ]
  },
  {
   "cell_type": "code",
   "execution_count": 15,
   "id": "2a4662ca-0b8e-41ad-9d27-509d71079641",
   "metadata": {},
   "outputs": [
    {
     "name": "stdout",
     "output_type": "stream",
     "text": [
      "+-------+-------+------------+\n",
      "| A     | B     |   phi(A,B) |\n",
      "+=======+=======+============+\n",
      "| A(a)  | B(b)  |     0.2927 |\n",
      "+-------+-------+------------+\n",
      "| A(a)  | B(bc) |     0.7073 |\n",
      "+-------+-------+------------+\n",
      "| A(ac) | B(b)  |     0.8983 |\n",
      "+-------+-------+------------+\n",
      "| A(ac) | B(bc) |     0.1017 |\n",
      "+-------+-------+------------+\n"
     ]
    }
   ],
   "source": [
    "print(joint / pA)"
   ]
  },
  {
   "cell_type": "markdown",
   "id": "39137656-400e-4531-8569-5a6c2bbc8661",
   "metadata": {
    "tags": []
   },
   "source": [
    "## 2"
   ]
  },
  {
   "cell_type": "code",
   "execution_count": 19,
   "id": "c85fc8ac-83cd-4d66-ba94-9e701a449bfa",
   "metadata": {},
   "outputs": [],
   "source": [
    "pa = 0.42\n",
    "pbga = 0.66\n",
    "pbgac = 0.25"
   ]
  },
  {
   "cell_type": "code",
   "execution_count": 20,
   "id": "e4794ed3-a75b-4e6b-9ae0-41194fb895c6",
   "metadata": {},
   "outputs": [
    {
     "data": {
      "text/plain": [
       "0.5800000000000001"
      ]
     },
     "execution_count": 20,
     "metadata": {},
     "output_type": "execute_result"
    }
   ],
   "source": [
    "pac = 1 - pa\n",
    "pac"
   ]
  },
  {
   "cell_type": "code",
   "execution_count": 21,
   "id": "3401d901-9776-470a-9243-d6ffb24150b3",
   "metadata": {},
   "outputs": [
    {
     "name": "stdout",
     "output_type": "stream",
     "text": [
      "+-------+-------+------------+\n",
      "| A     | B     |   phi(A,B) |\n",
      "+=======+=======+============+\n",
      "| A(a)  | B(b)  |     0.2772 |\n",
      "+-------+-------+------------+\n",
      "| A(a)  | B(bc) |     0.1428 |\n",
      "+-------+-------+------------+\n",
      "| A(ac) | B(b)  |     0.1450 |\n",
      "+-------+-------+------------+\n",
      "| A(ac) | B(bc) |     0.4350 |\n",
      "+-------+-------+------------+\n"
     ]
    }
   ],
   "source": [
    "joint = DiscreteFactor(\n",
    "    variables=['A', 'B'],\n",
    "    cardinality=[2, 2],\n",
    "    values=[0.2772,0.1428, 0.145,0.435], #given in tuples (x1,y1, x2,y2, x3,y3)\n",
    "    state_names={\n",
    "        'A':['a','ac'],\n",
    "        'B':['b','bc']}\n",
    ")\n",
    "print(joint)"
   ]
  },
  {
   "cell_type": "code",
   "execution_count": 22,
   "id": "a130e6fd-062f-4a38-b6a0-afd3c0a1896f",
   "metadata": {},
   "outputs": [],
   "source": [
    "pA = joint.marginalize(variables=['B'], inplace=False)\n",
    "pB = joint.marginalize(variables=['A'], inplace=False)"
   ]
  },
  {
   "cell_type": "code",
   "execution_count": 26,
   "id": "67e26b9f-4a3b-429c-9a1a-a2795e387fa3",
   "metadata": {},
   "outputs": [
    {
     "name": "stdout",
     "output_type": "stream",
     "text": [
      "+-------+----------+\n",
      "| A     |   phi(A) |\n",
      "+=======+==========+\n",
      "| A(a)  |   0.4200 |\n",
      "+-------+----------+\n",
      "| A(ac) |   0.5800 |\n",
      "+-------+----------+\n"
     ]
    }
   ],
   "source": [
    "print(pA)"
   ]
  },
  {
   "cell_type": "code",
   "execution_count": 27,
   "id": "6b80e4c3-5abc-4eeb-9b14-992a026e9f58",
   "metadata": {},
   "outputs": [
    {
     "name": "stdout",
     "output_type": "stream",
     "text": [
      "+-------+----------+\n",
      "| B     |   phi(B) |\n",
      "+=======+==========+\n",
      "| B(b)  |   0.4222 |\n",
      "+-------+----------+\n",
      "| B(bc) |   0.5778 |\n",
      "+-------+----------+\n"
     ]
    }
   ],
   "source": [
    "print(pB)"
   ]
  },
  {
   "cell_type": "code",
   "execution_count": 23,
   "id": "f7a454d8-868f-462f-8456-5f4a903651f0",
   "metadata": {},
   "outputs": [
    {
     "name": "stdout",
     "output_type": "stream",
     "text": [
      "+-------+-------+------------+\n",
      "| A     | B     |   phi(A,B) |\n",
      "+=======+=======+============+\n",
      "| A(a)  | B(b)  |     0.6600 |\n",
      "+-------+-------+------------+\n",
      "| A(a)  | B(bc) |     0.3400 |\n",
      "+-------+-------+------------+\n",
      "| A(ac) | B(b)  |     0.2500 |\n",
      "+-------+-------+------------+\n",
      "| A(ac) | B(bc) |     0.7500 |\n",
      "+-------+-------+------------+\n"
     ]
    }
   ],
   "source": [
    "print(joint/pA)"
   ]
  },
  {
   "cell_type": "code",
   "execution_count": 25,
   "id": "9878ed03-77ae-414d-82e9-5a22133763eb",
   "metadata": {},
   "outputs": [
    {
     "name": "stdout",
     "output_type": "stream",
     "text": [
      "+-------+-------+------------+\n",
      "| A     | B     |   phi(A,B) |\n",
      "+=======+=======+============+\n",
      "| A(a)  | B(b)  |     0.6566 |\n",
      "+-------+-------+------------+\n",
      "| A(a)  | B(bc) |     0.2471 |\n",
      "+-------+-------+------------+\n",
      "| A(ac) | B(b)  |     0.3434 |\n",
      "+-------+-------+------------+\n",
      "| A(ac) | B(bc) |     0.7529 |\n",
      "+-------+-------+------------+\n"
     ]
    }
   ],
   "source": [
    "print(joint/pB)"
   ]
  },
  {
   "cell_type": "code",
   "execution_count": null,
   "id": "edb06d8e-6281-4d02-ad66-71119f88db72",
   "metadata": {},
   "outputs": [],
   "source": []
  }
 ],
 "metadata": {
  "kernelspec": {
   "display_name": "Python 3",
   "language": "python",
   "name": "python3"
  },
  "language_info": {
   "codemirror_mode": {
    "name": "ipython",
    "version": 3
   },
   "file_extension": ".py",
   "mimetype": "text/x-python",
   "name": "python",
   "nbconvert_exporter": "python",
   "pygments_lexer": "ipython3",
   "version": "3.9.0"
  }
 },
 "nbformat": 4,
 "nbformat_minor": 5
}
