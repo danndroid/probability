{
 "cells": [
  {
   "cell_type": "code",
   "execution_count": 2,
   "id": "e063df7b-18f4-4109-adf2-998c9e7d9c15",
   "metadata": {},
   "outputs": [],
   "source": [
    "import numpy as np\n",
    "import random"
   ]
  },
  {
   "cell_type": "code",
   "execution_count": 13,
   "id": "24a75115-bcd0-4ddd-91cd-a1e0d43dc905",
   "metadata": {},
   "outputs": [
    {
     "name": "stdout",
     "output_type": "stream",
     "text": [
      "14 0b1110 1110\n",
      "10 0b1010 1010\n",
      "3 0b11 11\n",
      "9 0b1001 1001\n",
      "11 0b1011 1011\n"
     ]
    }
   ],
   "source": [
    "# BINARY REPRESENTATIONS\n",
    "for i in range(5):\n",
    "    b = random.getrandbits(4)\n",
    "    print(b, bin(b), bin(b)[2:]) #  converts a specified integer number to its binary"
   ]
  },
  {
   "cell_type": "code",
   "execution_count": 14,
   "id": "1a151e02-5130-4f24-83ec-4cb1aaf6a8ff",
   "metadata": {},
   "outputs": [
    {
     "data": {
      "text/plain": [
       "0.39773188161757256"
      ]
     },
     "execution_count": 14,
     "metadata": {},
     "output_type": "execute_result"
    }
   ],
   "source": [
    "random.random()"
   ]
  },
  {
   "cell_type": "code",
   "execution_count": 37,
   "id": "d5824b5f-3201-401d-8755-99d19ef147c5",
   "metadata": {},
   "outputs": [
    {
     "data": {
      "text/plain": [
       "2"
      ]
     },
     "execution_count": 37,
     "metadata": {},
     "output_type": "execute_result"
    }
   ],
   "source": [
    "numbers = np.arange(10)\n",
    "random.choice(numbers) # Sample from given list"
   ]
  },
  {
   "cell_type": "code",
   "execution_count": 36,
   "id": "44d325e0-c758-4cf4-b72a-0025b34a0082",
   "metadata": {},
   "outputs": [
    {
     "data": {
      "text/plain": [
       "9.662669177242654"
      ]
     },
     "execution_count": 36,
     "metadata": {},
     "output_type": "execute_result"
    }
   ],
   "source": [
    "random.uniform(5, 10) # Sample from uniform distribution"
   ]
  },
  {
   "cell_type": "code",
   "execution_count": 157,
   "id": "f0022d64-96ae-4a8e-a8aa-ff9b763f63a9",
   "metadata": {},
   "outputs": [
    {
     "name": "stdout",
     "output_type": "stream",
     "text": [
      "(5,)\n",
      "<class 'numpy.ndarray'>\n",
      "[0.37454012 0.95071431 0.73199394 0.59865848 0.15601864]\n",
      "\n",
      "(5,)\n",
      "<class 'numpy.ndarray'>\n",
      "[0.15599452 0.05808361 0.86617615 0.60111501 0.70807258]\n"
     ]
    }
   ],
   "source": [
    "np.random.seed(42)\n",
    "\n",
    "x1 = np.random.rand(5)\n",
    "x2 = np.random.rand(5)\n",
    "\n",
    "print(x1.shape)\n",
    "print(type(x1))\n",
    "print(x1)\n",
    "print('')\n",
    "print(x2.shape)\n",
    "print(type(x2))\n",
    "print(x2)\n",
    "\n",
    "\n",
    "X = np.array([x2,x2]).T"
   ]
  },
  {
   "cell_type": "code",
   "execution_count": 158,
   "id": "c21b9402-3249-46c7-9f43-f5fb656dffaf",
   "metadata": {},
   "outputs": [
    {
     "name": "stdout",
     "output_type": "stream",
     "text": [
      "(5, 2)\n"
     ]
    },
    {
     "data": {
      "text/plain": [
       "array([[0.15599452, 0.15599452],\n",
       "       [0.05808361, 0.05808361],\n",
       "       [0.86617615, 0.86617615],\n",
       "       [0.60111501, 0.60111501],\n",
       "       [0.70807258, 0.70807258]])"
      ]
     },
     "execution_count": 158,
     "metadata": {},
     "output_type": "execute_result"
    }
   ],
   "source": [
    "print(X.shape)\n",
    "X"
   ]
  },
  {
   "cell_type": "code",
   "execution_count": 155,
   "id": "f267e4e9-fb95-4d95-804c-3389383a88f4",
   "metadata": {},
   "outputs": [
    {
     "name": "stdout",
     "output_type": "stream",
     "text": [
      "(3, 3)\n"
     ]
    },
    {
     "data": {
      "text/plain": [
       "array([[ 0.09532548, -0.03144214,  0.09532548],\n",
       "       [-0.03144214,  0.12469716, -0.03144214],\n",
       "       [ 0.09532548, -0.03144214,  0.09532548]])"
      ]
     },
     "execution_count": 155,
     "metadata": {},
     "output_type": "execute_result"
    }
   ],
   "source": [
    "print(np.cov(X.T).shape)\n",
    "np.cov(X.T)"
   ]
  },
  {
   "cell_type": "markdown",
   "id": "4a43f9d1-b237-42e7-9b41-d4f6b167972a",
   "metadata": {},
   "source": [
    "### ddof=True"
   ]
  },
  {
   "cell_type": "code",
   "execution_count": 148,
   "id": "4b0a889b-7e07-4d9a-9792-dc5aed6a4a82",
   "metadata": {},
   "outputs": [
    {
     "name": "stdout",
     "output_type": "stream",
     "text": [
      "COV(X1, X2):\n",
      " [[ 0.09532548 -0.03144214]\n",
      " [-0.03144214  0.12469716]]\n",
      "\n",
      "var(X1): 0.09532548164256274\n",
      "var(X2): 0.12469716417996111\n"
     ]
    }
   ],
   "source": [
    "print(f'COV(X1, X2):\\n {np.cov(X[:,0], X[:,1])}\\n') # Delta Degree of Freedom = True\n",
    "print(f'var(X1): {np.var(e1, ddof=True)}')\n",
    "print(f'var(X2): {np.var(e2, ddof=True)}')"
   ]
  },
  {
   "cell_type": "markdown",
   "id": "bae7dea8-e4ac-4f90-bdf2-4695156523d0",
   "metadata": {},
   "source": [
    "### ddof=False"
   ]
  },
  {
   "cell_type": "code",
   "execution_count": 149,
   "id": "2c83ef5e-f632-4841-bf69-625baf33386e",
   "metadata": {},
   "outputs": [
    {
     "name": "stdout",
     "output_type": "stream",
     "text": [
      "COV(X1, X2):\n",
      " [[ 0.07626039 -0.02515371]\n",
      " [-0.02515371  0.09975773]]\n",
      "\n",
      "var(X1): 0.07626038531405019\n",
      "var(X2): 0.0997577313439689\n"
     ]
    }
   ],
   "source": [
    "print(f'COV(X1, X2):\\n {np.cov(X[:,0], X[:,1], ddof=False)}\\n') # Delta Degree of Freedom = False\n",
    "print(f'var(X1): {np.var(e1)}')\n",
    "print(f'var(X2): {np.var(e2)}')"
   ]
  },
  {
   "cell_type": "code",
   "execution_count": null,
   "id": "493f89d5-d9a2-4b19-a66a-cbc5758e4a88",
   "metadata": {},
   "outputs": [],
   "source": []
  }
 ],
 "metadata": {
  "kernelspec": {
   "display_name": "Python 3 (ipykernel)",
   "language": "python",
   "name": "python3"
  },
  "language_info": {
   "codemirror_mode": {
    "name": "ipython",
    "version": 3
   },
   "file_extension": ".py",
   "mimetype": "text/x-python",
   "name": "python",
   "nbconvert_exporter": "python",
   "pygments_lexer": "ipython3",
   "version": "3.9.13"
  }
 },
 "nbformat": 4,
 "nbformat_minor": 5
}
